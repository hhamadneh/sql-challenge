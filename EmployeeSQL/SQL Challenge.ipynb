{
 "cells": [
  {
   "cell_type": "markdown",
   "metadata": {},
   "source": [
    "# Dependencies"
   ]
  },
  {
   "cell_type": "code",
   "execution_count": 132,
   "metadata": {},
   "outputs": [],
   "source": [
    "import pandas as pd\n",
    "import numpy as np\n",
    "import matplotlib.pyplot as plt\n",
    "import scipy.stats as sts\n",
    "from sqlalchemy import create_engine"
   ]
  },
  {
   "cell_type": "markdown",
   "metadata": {},
   "source": [
    "# Connecting to Postgres Database"
   ]
  },
  {
   "cell_type": "code",
   "execution_count": 133,
   "metadata": {},
   "outputs": [],
   "source": [
    "username=\"webuser\"\n",
    "password=\"postgres\"\n",
    "db_name=\"Employees\"\n",
    "hostname=\"localhost\"\n",
    "engine = create_engine(f'postgresql://{username}:{password}@{hostname}:5432/{db_name}')\n",
    "connection = engine.connect()"
   ]
  },
  {
   "cell_type": "code",
   "execution_count": 134,
   "metadata": {},
   "outputs": [
    {
     "data": {
      "text/html": [
       "<div>\n",
       "<style scoped>\n",
       "    .dataframe tbody tr th:only-of-type {\n",
       "        vertical-align: middle;\n",
       "    }\n",
       "\n",
       "    .dataframe tbody tr th {\n",
       "        vertical-align: top;\n",
       "    }\n",
       "\n",
       "    .dataframe thead th {\n",
       "        text-align: right;\n",
       "    }\n",
       "</style>\n",
       "<table border=\"1\" class=\"dataframe\">\n",
       "  <thead>\n",
       "    <tr style=\"text-align: right;\">\n",
       "      <th></th>\n",
       "      <th>title</th>\n",
       "      <th>salary</th>\n",
       "    </tr>\n",
       "  </thead>\n",
       "  <tbody>\n",
       "    <tr>\n",
       "      <th>0</th>\n",
       "      <td>Engineer</td>\n",
       "      <td>48973</td>\n",
       "    </tr>\n",
       "    <tr>\n",
       "      <th>1</th>\n",
       "      <td>Senior Engineer</td>\n",
       "      <td>40000</td>\n",
       "    </tr>\n",
       "    <tr>\n",
       "      <th>2</th>\n",
       "      <td>Technique Leader</td>\n",
       "      <td>43548</td>\n",
       "    </tr>\n",
       "    <tr>\n",
       "      <th>3</th>\n",
       "      <td>Staff</td>\n",
       "      <td>63377</td>\n",
       "    </tr>\n",
       "    <tr>\n",
       "      <th>4</th>\n",
       "      <td>Senior Engineer</td>\n",
       "      <td>40000</td>\n",
       "    </tr>\n",
       "  </tbody>\n",
       "</table>\n",
       "</div>"
      ],
      "text/plain": [
       "              title  salary\n",
       "0          Engineer   48973\n",
       "1   Senior Engineer   40000\n",
       "2  Technique Leader   43548\n",
       "3             Staff   63377\n",
       "4   Senior Engineer   40000"
      ]
     },
     "execution_count": 134,
     "metadata": {},
     "output_type": "execute_result"
    }
   ],
   "source": [
    "employees_salaries = pd.read_sql(\"select T.title, S.salary from employees E join salaries S on E.emp_no = S.emp_no join titles T on E.emp_title_id = T.title_id \", connection)\n",
    "employees_salaries.head()"
   ]
  },
  {
   "cell_type": "markdown",
   "metadata": {},
   "source": [
    "# Creating bins and group labels"
   ]
  },
  {
   "cell_type": "code",
   "execution_count": 135,
   "metadata": {},
   "outputs": [],
   "source": [
    "bins = [39999, 49999, 59999, 69999, 79999, 89999,\n",
    "        99999, 109999, 119999, 129999]\n",
    "\n",
    "# Create labels for these bins\n",
    "group_labels = [\"40K to 50k\", \"50k to 60k\", \"60k to 70k\", \"70k to 80k\", \"80k to 90k\", \"90k to 100k\", \"100k to 110k\",\n",
    "                \"110k to 120k\", \"120k to 130k\" ]"
   ]
  },
  {
   "cell_type": "code",
   "execution_count": 136,
   "metadata": {},
   "outputs": [
    {
     "data": {
      "text/html": [
       "<div>\n",
       "<style scoped>\n",
       "    .dataframe tbody tr th:only-of-type {\n",
       "        vertical-align: middle;\n",
       "    }\n",
       "\n",
       "    .dataframe tbody tr th {\n",
       "        vertical-align: top;\n",
       "    }\n",
       "\n",
       "    .dataframe thead th {\n",
       "        text-align: right;\n",
       "    }\n",
       "</style>\n",
       "<table border=\"1\" class=\"dataframe\">\n",
       "  <thead>\n",
       "    <tr style=\"text-align: right;\">\n",
       "      <th></th>\n",
       "      <th>title</th>\n",
       "      <th>salary</th>\n",
       "      <th>Salary Range</th>\n",
       "    </tr>\n",
       "  </thead>\n",
       "  <tbody>\n",
       "    <tr>\n",
       "      <th>0</th>\n",
       "      <td>Engineer</td>\n",
       "      <td>48973</td>\n",
       "      <td>40K to 50k</td>\n",
       "    </tr>\n",
       "    <tr>\n",
       "      <th>1</th>\n",
       "      <td>Senior Engineer</td>\n",
       "      <td>40000</td>\n",
       "      <td>40K to 50k</td>\n",
       "    </tr>\n",
       "    <tr>\n",
       "      <th>2</th>\n",
       "      <td>Technique Leader</td>\n",
       "      <td>43548</td>\n",
       "      <td>40K to 50k</td>\n",
       "    </tr>\n",
       "    <tr>\n",
       "      <th>3</th>\n",
       "      <td>Staff</td>\n",
       "      <td>63377</td>\n",
       "      <td>60k to 70k</td>\n",
       "    </tr>\n",
       "    <tr>\n",
       "      <th>4</th>\n",
       "      <td>Senior Engineer</td>\n",
       "      <td>40000</td>\n",
       "      <td>40K to 50k</td>\n",
       "    </tr>\n",
       "    <tr>\n",
       "      <th>...</th>\n",
       "      <td>...</td>\n",
       "      <td>...</td>\n",
       "      <td>...</td>\n",
       "    </tr>\n",
       "    <tr>\n",
       "      <th>300019</th>\n",
       "      <td>Staff</td>\n",
       "      <td>40000</td>\n",
       "      <td>40K to 50k</td>\n",
       "    </tr>\n",
       "    <tr>\n",
       "      <th>300020</th>\n",
       "      <td>Technique Leader</td>\n",
       "      <td>40000</td>\n",
       "      <td>40K to 50k</td>\n",
       "    </tr>\n",
       "    <tr>\n",
       "      <th>300021</th>\n",
       "      <td>Senior Engineer</td>\n",
       "      <td>59703</td>\n",
       "      <td>50k to 60k</td>\n",
       "    </tr>\n",
       "    <tr>\n",
       "      <th>300022</th>\n",
       "      <td>Senior Engineer</td>\n",
       "      <td>48038</td>\n",
       "      <td>40K to 50k</td>\n",
       "    </tr>\n",
       "    <tr>\n",
       "      <th>300023</th>\n",
       "      <td>Senior Engineer</td>\n",
       "      <td>40000</td>\n",
       "      <td>40K to 50k</td>\n",
       "    </tr>\n",
       "  </tbody>\n",
       "</table>\n",
       "<p>300024 rows × 3 columns</p>\n",
       "</div>"
      ],
      "text/plain": [
       "                   title  salary Salary Range\n",
       "0               Engineer   48973   40K to 50k\n",
       "1        Senior Engineer   40000   40K to 50k\n",
       "2       Technique Leader   43548   40K to 50k\n",
       "3                  Staff   63377   60k to 70k\n",
       "4        Senior Engineer   40000   40K to 50k\n",
       "...                  ...     ...          ...\n",
       "300019             Staff   40000   40K to 50k\n",
       "300020  Technique Leader   40000   40K to 50k\n",
       "300021   Senior Engineer   59703   50k to 60k\n",
       "300022   Senior Engineer   48038   40K to 50k\n",
       "300023   Senior Engineer   40000   40K to 50k\n",
       "\n",
       "[300024 rows x 3 columns]"
      ]
     },
     "execution_count": 136,
     "metadata": {},
     "output_type": "execute_result"
    }
   ],
   "source": [
    "employees_salaries[\"Salary Range\"] = pd.cut(employees_salaries[\"salary\"], bins, labels=group_labels)\n",
    "employees_salaries"
   ]
  },
  {
   "cell_type": "code",
   "execution_count": 137,
   "metadata": {},
   "outputs": [
    {
     "data": {
      "text/html": [
       "<div>\n",
       "<style scoped>\n",
       "    .dataframe tbody tr th:only-of-type {\n",
       "        vertical-align: middle;\n",
       "    }\n",
       "\n",
       "    .dataframe tbody tr th {\n",
       "        vertical-align: top;\n",
       "    }\n",
       "\n",
       "    .dataframe thead th {\n",
       "        text-align: right;\n",
       "    }\n",
       "</style>\n",
       "<table border=\"1\" class=\"dataframe\">\n",
       "  <thead>\n",
       "    <tr style=\"text-align: right;\">\n",
       "      <th></th>\n",
       "      <th>title</th>\n",
       "      <th>salary</th>\n",
       "    </tr>\n",
       "    <tr>\n",
       "      <th>Salary Range</th>\n",
       "      <th></th>\n",
       "      <th></th>\n",
       "    </tr>\n",
       "  </thead>\n",
       "  <tbody>\n",
       "    <tr>\n",
       "      <th>40K to 50k</th>\n",
       "      <td>158465</td>\n",
       "      <td>158465</td>\n",
       "    </tr>\n",
       "    <tr>\n",
       "      <th>50k to 60k</th>\n",
       "      <td>57915</td>\n",
       "      <td>57915</td>\n",
       "    </tr>\n",
       "    <tr>\n",
       "      <th>60k to 70k</th>\n",
       "      <td>41413</td>\n",
       "      <td>41413</td>\n",
       "    </tr>\n",
       "    <tr>\n",
       "      <th>70k to 80k</th>\n",
       "      <td>24814</td>\n",
       "      <td>24814</td>\n",
       "    </tr>\n",
       "    <tr>\n",
       "      <th>80k to 90k</th>\n",
       "      <td>11845</td>\n",
       "      <td>11845</td>\n",
       "    </tr>\n",
       "    <tr>\n",
       "      <th>90k to 100k</th>\n",
       "      <td>4284</td>\n",
       "      <td>4284</td>\n",
       "    </tr>\n",
       "    <tr>\n",
       "      <th>100k to 110k</th>\n",
       "      <td>1069</td>\n",
       "      <td>1069</td>\n",
       "    </tr>\n",
       "    <tr>\n",
       "      <th>110k to 120k</th>\n",
       "      <td>195</td>\n",
       "      <td>195</td>\n",
       "    </tr>\n",
       "    <tr>\n",
       "      <th>120k to 130k</th>\n",
       "      <td>24</td>\n",
       "      <td>24</td>\n",
       "    </tr>\n",
       "  </tbody>\n",
       "</table>\n",
       "</div>"
      ],
      "text/plain": [
       "               title  salary\n",
       "Salary Range                \n",
       "40K to 50k    158465  158465\n",
       "50k to 60k     57915   57915\n",
       "60k to 70k     41413   41413\n",
       "70k to 80k     24814   24814\n",
       "80k to 90k     11845   11845\n",
       "90k to 100k     4284    4284\n",
       "100k to 110k    1069    1069\n",
       "110k to 120k     195     195\n",
       "120k to 130k      24      24"
      ]
     },
     "execution_count": 137,
     "metadata": {},
     "output_type": "execute_result"
    }
   ],
   "source": [
    "# Just grouping to make sure of number\n",
    "\n",
    "employees_salaries_salary_groups = employees_salaries.groupby (\"Salary Range\").count()\n",
    "employees_salaries_salary_groups"
   ]
  },
  {
   "cell_type": "markdown",
   "metadata": {},
   "source": [
    "# histogram to visualize the most common salary ranges for employees."
   ]
  },
  {
   "cell_type": "code",
   "execution_count": 138,
   "metadata": {},
   "outputs": [
    {
     "data": {
      "image/png": "[encoded data removed]",
      "text/plain": [
       "<Figure size 432x288 with 1 Axes>"
      ]
     },
     "metadata": {
      "needs_background": "light"
     },
     "output_type": "display_data"
    },
    {
     "data": {
      "text/plain": [
       "<Figure size 432x288 with 0 Axes>"
      ]
     },
     "metadata": {},
     "output_type": "display_data"
    }
   ],
   "source": [
    "plt.hist(employees_salaries[\"salary\"],bins)\n",
    "plt.xlabel('Salary Ranges')\n",
    "plt.ylabel('Counts')\n",
    "plt.show()\n",
    "plt.tight_layout()"
   ]
  },
  {
   "cell_type": "markdown",
   "metadata": {},
   "source": [
    "# bar chart of average salary by title."
   ]
  },
  {
   "cell_type": "code",
   "execution_count": 139,
   "metadata": {},
   "outputs": [
    {
     "data": {
      "text/plain": [
       "title\n",
       "Assistant Engineer    48564.43\n",
       "Engineer              48535.34\n",
       "Manager               51531.04\n",
       "Senior Engineer       48506.80\n",
       "Senior Staff          58550.17\n",
       "Staff                 58465.38\n",
       "Technique Leader      48582.90\n",
       "Name: salary, dtype: float64"
      ]
     },
     "execution_count": 139,
     "metadata": {},
     "output_type": "execute_result"
    }
   ],
   "source": [
    "employees_titles_salary_avg = round(employees_salaries.groupby(\"title\")[\"salary\"].mean(),2)\n",
    "employees_titles_salary_avg"
   ]
  },
  {
   "cell_type": "code",
   "execution_count": 140,
   "metadata": {},
   "outputs": [
    {
     "data": {
      "image/png": "[encoded data removed]",
      "text/plain": [
       "<Figure size 432x288 with 1 Axes>"
      ]
     },
     "metadata": {
      "needs_background": "light"
     },
     "output_type": "display_data"
    }
   ],
   "source": [
    "plt.bar(employees_titles_salary_avg.index.values, employees_titles_salary_avg.values)\n",
    "plt.xticks(rotation=90)\n",
    "plt.xlabel('Title')\n",
    "plt.ylabel('Avg Salary')\n",
    "plt.show()"
   ]
  },
  {
   "cell_type": "markdown",
   "metadata": {},
   "source": [
    "# search data base by employee padge number:"
   ]
  },
  {
   "cell_type": "code",
   "execution_count": 141,
   "metadata": {},
   "outputs": [
    {
     "name": "stdout",
     "output_type": "stream",
     "text": [
      "Enter the emp padge number:499942\n"
     ]
    },
    {
     "data": {
      "text/html": [
       "<div>\n",
       "<style scoped>\n",
       "    .dataframe tbody tr th:only-of-type {\n",
       "        vertical-align: middle;\n",
       "    }\n",
       "\n",
       "    .dataframe tbody tr th {\n",
       "        vertical-align: top;\n",
       "    }\n",
       "\n",
       "    .dataframe thead th {\n",
       "        text-align: right;\n",
       "    }\n",
       "</style>\n",
       "<table border=\"1\" class=\"dataframe\">\n",
       "  <thead>\n",
       "    <tr style=\"text-align: right;\">\n",
       "      <th></th>\n",
       "      <th>emp_no</th>\n",
       "      <th>title</th>\n",
       "      <th>first_name</th>\n",
       "      <th>last_name</th>\n",
       "      <th>sex</th>\n",
       "      <th>hire_date</th>\n",
       "      <th>salary</th>\n",
       "    </tr>\n",
       "  </thead>\n",
       "  <tbody>\n",
       "    <tr>\n",
       "      <th>0</th>\n",
       "      <td>499942</td>\n",
       "      <td>Technique Leader</td>\n",
       "      <td>April</td>\n",
       "      <td>Foolsday</td>\n",
       "      <td>F</td>\n",
       "      <td>2/10/1997</td>\n",
       "      <td>40000</td>\n",
       "    </tr>\n",
       "  </tbody>\n",
       "</table>\n",
       "</div>"
      ],
      "text/plain": [
       "   emp_no             title first_name last_name sex  hire_date  salary\n",
       "0  499942  Technique Leader      April  Foolsday   F  2/10/1997   40000"
      ]
     },
     "execution_count": 141,
     "metadata": {},
     "output_type": "execute_result"
    }
   ],
   "source": [
    "padge_no = input(\"Enter the emp padge number:\") \n",
    "search_emp_id = pd.read_sql(f\"select E.emp_no, T.title, E.first_name, E.last_name, sex, E.hire_date, S.salary from employees E join salaries S on E.emp_no = S.emp_no join titles T on E.emp_title_id = T.title_id where E.emp_no = {padge_no}\", connection)\n",
    "search_emp_id.head()"
   ]
  },
  {
   "cell_type": "code",
   "execution_count": null,
   "metadata": {},
   "outputs": [],
   "source": []
  }
 ],
 "metadata": {
  "kernelspec": {
   "display_name": "Python 3",
   "language": "python",
   "name": "python3"
  },
  "language_info": {
   "codemirror_mode": {
    "name": "ipython",
    "version": 3
   },
   "file_extension": ".py",
   "mimetype": "text/x-python",
   "name": "python",
   "nbconvert_exporter": "python",
   "pygments_lexer": "ipython3",
   "version": "3.8.3"
  }
 },
 "nbformat": 4,
 "nbformat_minor": 4
}
